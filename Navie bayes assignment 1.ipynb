{
 "cells": [
  {
   "cell_type": "markdown",
   "id": "58f58ee8-b8ed-4941-a957-2d9d15c12fb7",
   "metadata": {},
   "source": [
    "Bayes' Thereom is a fundamental concept in problity theory and statictics.it describe the probality of an event based on prior knowldge of condtions that might be related to the event.Mathmatically,it is related expressed"
   ]
  },
  {
   "cell_type": "markdown",
   "id": "1bd6edad-1721-453a-ba2f-b69cfb69958d",
   "metadata": {},
   "source": [
    "The formula for bayes'thereom is \n",
    "p(a/b) = p(b/a)*p(a)/p(b)"
   ]
  },
  {
   "cell_type": "markdown",
   "id": "2f2a302c-69a8-4755-8f19-33056ce7a6f1",
   "metadata": {},
   "source": [
    "Bayes Thereom is used in various fields,including statictics,machine learning,and artificial intelligence,to make predctions and update beliefs based on new evidence.Here are a few practical application;\n",
    "1. Medical Diagnosis:Bayes'Thereom is used in medical diagnosis to update the probality of a diseases given the result of diagnostic tests and the patient's symptoms.\n",
    "2. Spam Filtering:In email spam filtering Bayes Thereom helps classify emails as spam or non-spam based on the occurence of certain words or patterns\n",
    "3. Weather Forecasting: Meterolorgist use Bayes Thereom to update weather predctions based on new data collected from satellites weather stations and other sources.\n",
    "4. Search Engines:Search engines use Bayesian interfernce to improve search result by considering relevance of a webpage to a search query based on factor like keywords,links,and user bhevaviour\n",
    "5. Machine Learning:In machine learning,Bayesian method are used for parmeters estimation model slection and uncertanity quanfication"
   ]
  },
  {
   "cell_type": "markdown",
   "id": "730484ed-d6d7-4aca-88be-211124547e60",
   "metadata": {},
   "source": [
    "Bayes'Thereom is essentially a way of calculating condtional probalities.it formalizes the relationship between condtional probalties and helps in updating beliefs or probalties based on new evidence.Conditional probality is the probality of an evnet occuriing given tha another event has already occured Bayyes  Thereom provides a formula for calculating using this condtional probality using probalities of the events involved and the probality of their  intersection. In essence bayes thereom allows us to reverse the direction of condtional probalities instead of asking what is the probality of event A given event this allows us to calculate."
   ]
  },
  {
   "cell_type": "markdown",
   "id": "cac85bb9-9146-4522-ae4e-3c5c1efb2942",
   "metadata": {},
   "source": [
    "Choosing the appropriate type of naive bayes classfier depends on sevral factor sucah as the nature of the problem the distribution of feature and the assumptions abut indpendence amomg feature:\n",
    "1. Gaussian navie bayes\n",
    "2. Multionmial naive bayes\n",
    "3. Bernouli naive bayes"
   ]
  },
  {
   "cell_type": "code",
   "execution_count": null,
   "id": "a8463f23-8a18-4fbd-96d4-f2a893a893bc",
   "metadata": {},
   "outputs": [],
   "source": []
  }
 ],
 "metadata": {
  "kernelspec": {
   "display_name": "Python 3 (ipykernel)",
   "language": "python",
   "name": "python3"
  },
  "language_info": {
   "codemirror_mode": {
    "name": "ipython",
    "version": 3
   },
   "file_extension": ".py",
   "mimetype": "text/x-python",
   "name": "python",
   "nbconvert_exporter": "python",
   "pygments_lexer": "ipython3",
   "version": "3.10.8"
  }
 },
 "nbformat": 4,
 "nbformat_minor": 5
}
